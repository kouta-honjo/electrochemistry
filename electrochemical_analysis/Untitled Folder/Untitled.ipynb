{
 "cells": [
  {
   "cell_type": "code",
   "execution_count": 7,
   "id": "6b45d6cf",
   "metadata": {},
   "outputs": [
    {
     "name": "stdout",
     "output_type": "stream",
     "text": [
      "1 <class 'int'>\n",
      "1 <class 'int'>\n"
     ]
    }
   ],
   "source": [
    "#type() function:型を返してくれる\n",
    "num = 1\n",
    "name = \"1\"\n",
    "print(num,type(num))\n",
    "new_num = int(name)\n",
    "\n",
    "print(new_num,type(new_num))"
   ]
  },
  {
   "cell_type": "code",
   "execution_count": null,
   "id": "58bc10c3",
   "metadata": {},
   "outputs": [],
   "source": []
  }
 ],
 "metadata": {
  "kernelspec": {
   "display_name": "Python 3 (ipykernel)",
   "language": "python",
   "name": "python3"
  },
  "language_info": {
   "codemirror_mode": {
    "name": "ipython",
    "version": 3
   },
   "file_extension": ".py",
   "mimetype": "text/x-python",
   "name": "python",
   "nbconvert_exporter": "python",
   "pygments_lexer": "ipython3",
   "version": "3.10.9"
  }
 },
 "nbformat": 4,
 "nbformat_minor": 5
}
