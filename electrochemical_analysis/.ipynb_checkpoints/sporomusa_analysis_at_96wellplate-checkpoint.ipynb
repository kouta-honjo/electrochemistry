{
 "cells": [
  {
   "cell_type": "code",
   "execution_count": 1,
   "id": "49d62ef4",
   "metadata": {},
   "outputs": [],
   "source": [
    "import numpy as np\n",
    "import sys\n",
    "import copy\n",
    "import pandas as pd\n",
    "import os\n",
    "import argparse\n",
    "from os.path import join\n",
    "import matplotlib.pyplot as plt \n",
    "from matplotlib import cm\n",
    "import datetime\n",
    "import itertools\n",
    "import openpyxl\n",
    "import statistics\n",
    "import seaborn as sns"
   ]
  },
  {
   "cell_type": "code",
   "execution_count": 2,
   "id": "5d3e0174",
   "metadata": {},
   "outputs": [],
   "source": [
    "def file_convert(file_name):\n",
    "    correct_name = file_name.replace(chr(92),'/')\n",
    "    return correct_name"
   ]
  },
  {
   "cell_type": "code",
   "execution_count": 4,
   "id": "49b0d5f2",
   "metadata": {},
   "outputs": [],
   "source": [
    "#import data\n",
    "input_data = r\"C:\\Users\\81906\\Desktop\\研究関連\\NIMS_experiments\\0710_sporomusa\\0710_sporomusa_honjo.csv\"\n",
    "input_data = file_convert(input_data)\n",
    "#import sample_sheet\n",
    "input_sheet = r\"C:\\Users\\81906\\Desktop\\研究関連\\NIMS_experiments\\0710_sporomusa\\0710_sporomusa_analysedata.csv\"\n",
    "input_sheet = file_convert(input_sheet)"
   ]
  },
  {
   "cell_type": "code",
   "execution_count": 10,
   "id": "394a11e9",
   "metadata": {},
   "outputs": [],
   "source": [
    "# data selecting\n",
    "data_start = 1\n",
    "def import_data(input_data):\n",
    "    #data selection\n",
    "    global data_start\n",
    "    data = pd.read_csv(input_data, header = None, index_col = None, sep = \",\")\n",
    "    if data.iloc[0,1]=='start':\n",
    "        data_start=data_start+1\n",
    "    selected = data.iloc[:,data_start:]\n",
    "    \n",
    "    #time calculation\n",
    "    dt1=data[0][0]\n",
    "    dt2=data[0][1]\n",
    "    tdatetime1 = datetime.datetime.strptime(dt1, '%Y/%m/%d %H:%M:%S')\n",
    "    tdatetime2 = datetime.datetime.strptime(dt2, '%Y/%m/%d %H:%M:%S')\n",
    "    tdelta=tdatetime2-tdatetime1\n",
    "    \n",
    "    return tdelta,data_start,selected\n",
    "\n",
    "tdelta,data_start,selected = import_data(input_data)"
   ]
  },
  {
   "cell_type": "code",
   "execution_count": 11,
   "id": "3167ff17",
   "metadata": {},
   "outputs": [],
   "source": [
    "#time conversion\n",
    "\n",
    "#aerobic\n",
    "timescale=\"hour\"\n",
    "#timescale=\"min\"\n",
    "\n",
    "#time = selected.index.values\n",
    "time = selected.index.values\n",
    "if timescale == \"hour\":\n",
    "    xdata = (time/3600)*tdelta.seconds\n",
    "elif timescale == \"min\":\n",
    "    xdata = (time/60)*tdelta.seconds"
   ]
  },
  {
   "cell_type": "code",
   "execution_count": 12,
   "id": "7e850518",
   "metadata": {},
   "outputs": [
    {
     "ename": "FileNotFoundError",
     "evalue": "[Errno 2] No such file or directory: 'C:/Users/81906/Desktop/研究関連/NIMS_experiments/0710_sporomusa/0710_sporomusa_analysedata.csv'",
     "output_type": "error",
     "traceback": [
      "\u001b[1;31m---------------------------------------------------------------------------\u001b[0m",
      "\u001b[1;31mFileNotFoundError\u001b[0m                         Traceback (most recent call last)",
      "Cell \u001b[1;32mIn[12], line 2\u001b[0m\n\u001b[0;32m      1\u001b[0m \u001b[38;5;66;03m#data information from sample_sheet\u001b[39;00m\n\u001b[1;32m----> 2\u001b[0m sample_s \u001b[38;5;241m=\u001b[39m \u001b[43mpd\u001b[49m\u001b[38;5;241;43m.\u001b[39;49m\u001b[43mread_excel\u001b[49m\u001b[43m(\u001b[49m\u001b[43minput_sheet\u001b[49m\u001b[43m,\u001b[49m\u001b[43m \u001b[49m\u001b[43mheader\u001b[49m\u001b[43m \u001b[49m\u001b[38;5;241;43m=\u001b[39;49m\u001b[43m \u001b[49m\u001b[38;5;28;43;01mNone\u001b[39;49;00m\u001b[43m,\u001b[49m\u001b[43m \u001b[49m\u001b[43mindex_col\u001b[49m\u001b[43m \u001b[49m\u001b[38;5;241;43m=\u001b[39;49m\u001b[43m \u001b[49m\u001b[38;5;28;43;01mNone\u001b[39;49;00m\u001b[43m)\u001b[49m\n\u001b[0;32m      4\u001b[0m \u001b[38;5;66;03m#name information\u001b[39;00m\n\u001b[0;32m      5\u001b[0m med_name \u001b[38;5;241m=\u001b[39m sample_s\u001b[38;5;241m.\u001b[39miloc[\u001b[38;5;241m2\u001b[39m,\u001b[38;5;241m2\u001b[39m:\u001b[38;5;241m14\u001b[39m]\n",
      "File \u001b[1;32m~\\anaconda\\lib\\site-packages\\pandas\\util\\_decorators.py:211\u001b[0m, in \u001b[0;36mdeprecate_kwarg.<locals>._deprecate_kwarg.<locals>.wrapper\u001b[1;34m(*args, **kwargs)\u001b[0m\n\u001b[0;32m    209\u001b[0m     \u001b[38;5;28;01melse\u001b[39;00m:\n\u001b[0;32m    210\u001b[0m         kwargs[new_arg_name] \u001b[38;5;241m=\u001b[39m new_arg_value\n\u001b[1;32m--> 211\u001b[0m \u001b[38;5;28;01mreturn\u001b[39;00m func(\u001b[38;5;241m*\u001b[39margs, \u001b[38;5;241m*\u001b[39m\u001b[38;5;241m*\u001b[39mkwargs)\n",
      "File \u001b[1;32m~\\anaconda\\lib\\site-packages\\pandas\\util\\_decorators.py:331\u001b[0m, in \u001b[0;36mdeprecate_nonkeyword_arguments.<locals>.decorate.<locals>.wrapper\u001b[1;34m(*args, **kwargs)\u001b[0m\n\u001b[0;32m    325\u001b[0m \u001b[38;5;28;01mif\u001b[39;00m \u001b[38;5;28mlen\u001b[39m(args) \u001b[38;5;241m>\u001b[39m num_allow_args:\n\u001b[0;32m    326\u001b[0m     warnings\u001b[38;5;241m.\u001b[39mwarn(\n\u001b[0;32m    327\u001b[0m         msg\u001b[38;5;241m.\u001b[39mformat(arguments\u001b[38;5;241m=\u001b[39m_format_argument_list(allow_args)),\n\u001b[0;32m    328\u001b[0m         \u001b[38;5;167;01mFutureWarning\u001b[39;00m,\n\u001b[0;32m    329\u001b[0m         stacklevel\u001b[38;5;241m=\u001b[39mfind_stack_level(),\n\u001b[0;32m    330\u001b[0m     )\n\u001b[1;32m--> 331\u001b[0m \u001b[38;5;28;01mreturn\u001b[39;00m func(\u001b[38;5;241m*\u001b[39margs, \u001b[38;5;241m*\u001b[39m\u001b[38;5;241m*\u001b[39mkwargs)\n",
      "File \u001b[1;32m~\\anaconda\\lib\\site-packages\\pandas\\io\\excel\\_base.py:482\u001b[0m, in \u001b[0;36mread_excel\u001b[1;34m(io, sheet_name, header, names, index_col, usecols, squeeze, dtype, engine, converters, true_values, false_values, skiprows, nrows, na_values, keep_default_na, na_filter, verbose, parse_dates, date_parser, thousands, decimal, comment, skipfooter, convert_float, mangle_dupe_cols, storage_options)\u001b[0m\n\u001b[0;32m    480\u001b[0m \u001b[38;5;28;01mif\u001b[39;00m \u001b[38;5;129;01mnot\u001b[39;00m \u001b[38;5;28misinstance\u001b[39m(io, ExcelFile):\n\u001b[0;32m    481\u001b[0m     should_close \u001b[38;5;241m=\u001b[39m \u001b[38;5;28;01mTrue\u001b[39;00m\n\u001b[1;32m--> 482\u001b[0m     io \u001b[38;5;241m=\u001b[39m \u001b[43mExcelFile\u001b[49m\u001b[43m(\u001b[49m\u001b[43mio\u001b[49m\u001b[43m,\u001b[49m\u001b[43m \u001b[49m\u001b[43mstorage_options\u001b[49m\u001b[38;5;241;43m=\u001b[39;49m\u001b[43mstorage_options\u001b[49m\u001b[43m,\u001b[49m\u001b[43m \u001b[49m\u001b[43mengine\u001b[49m\u001b[38;5;241;43m=\u001b[39;49m\u001b[43mengine\u001b[49m\u001b[43m)\u001b[49m\n\u001b[0;32m    483\u001b[0m \u001b[38;5;28;01melif\u001b[39;00m engine \u001b[38;5;129;01mand\u001b[39;00m engine \u001b[38;5;241m!=\u001b[39m io\u001b[38;5;241m.\u001b[39mengine:\n\u001b[0;32m    484\u001b[0m     \u001b[38;5;28;01mraise\u001b[39;00m \u001b[38;5;167;01mValueError\u001b[39;00m(\n\u001b[0;32m    485\u001b[0m         \u001b[38;5;124m\"\u001b[39m\u001b[38;5;124mEngine should not be specified when passing \u001b[39m\u001b[38;5;124m\"\u001b[39m\n\u001b[0;32m    486\u001b[0m         \u001b[38;5;124m\"\u001b[39m\u001b[38;5;124man ExcelFile - ExcelFile already has the engine set\u001b[39m\u001b[38;5;124m\"\u001b[39m\n\u001b[0;32m    487\u001b[0m     )\n",
      "File \u001b[1;32m~\\anaconda\\lib\\site-packages\\pandas\\io\\excel\\_base.py:1652\u001b[0m, in \u001b[0;36mExcelFile.__init__\u001b[1;34m(self, path_or_buffer, engine, storage_options)\u001b[0m\n\u001b[0;32m   1650\u001b[0m     ext \u001b[38;5;241m=\u001b[39m \u001b[38;5;124m\"\u001b[39m\u001b[38;5;124mxls\u001b[39m\u001b[38;5;124m\"\u001b[39m\n\u001b[0;32m   1651\u001b[0m \u001b[38;5;28;01melse\u001b[39;00m:\n\u001b[1;32m-> 1652\u001b[0m     ext \u001b[38;5;241m=\u001b[39m \u001b[43minspect_excel_format\u001b[49m\u001b[43m(\u001b[49m\n\u001b[0;32m   1653\u001b[0m \u001b[43m        \u001b[49m\u001b[43mcontent_or_path\u001b[49m\u001b[38;5;241;43m=\u001b[39;49m\u001b[43mpath_or_buffer\u001b[49m\u001b[43m,\u001b[49m\u001b[43m \u001b[49m\u001b[43mstorage_options\u001b[49m\u001b[38;5;241;43m=\u001b[39;49m\u001b[43mstorage_options\u001b[49m\n\u001b[0;32m   1654\u001b[0m \u001b[43m    \u001b[49m\u001b[43m)\u001b[49m\n\u001b[0;32m   1655\u001b[0m     \u001b[38;5;28;01mif\u001b[39;00m ext \u001b[38;5;129;01mis\u001b[39;00m \u001b[38;5;28;01mNone\u001b[39;00m:\n\u001b[0;32m   1656\u001b[0m         \u001b[38;5;28;01mraise\u001b[39;00m \u001b[38;5;167;01mValueError\u001b[39;00m(\n\u001b[0;32m   1657\u001b[0m             \u001b[38;5;124m\"\u001b[39m\u001b[38;5;124mExcel file format cannot be determined, you must specify \u001b[39m\u001b[38;5;124m\"\u001b[39m\n\u001b[0;32m   1658\u001b[0m             \u001b[38;5;124m\"\u001b[39m\u001b[38;5;124man engine manually.\u001b[39m\u001b[38;5;124m\"\u001b[39m\n\u001b[0;32m   1659\u001b[0m         )\n",
      "File \u001b[1;32m~\\anaconda\\lib\\site-packages\\pandas\\io\\excel\\_base.py:1525\u001b[0m, in \u001b[0;36minspect_excel_format\u001b[1;34m(content_or_path, storage_options)\u001b[0m\n\u001b[0;32m   1522\u001b[0m \u001b[38;5;28;01mif\u001b[39;00m \u001b[38;5;28misinstance\u001b[39m(content_or_path, \u001b[38;5;28mbytes\u001b[39m):\n\u001b[0;32m   1523\u001b[0m     content_or_path \u001b[38;5;241m=\u001b[39m BytesIO(content_or_path)\n\u001b[1;32m-> 1525\u001b[0m \u001b[38;5;28;01mwith\u001b[39;00m \u001b[43mget_handle\u001b[49m\u001b[43m(\u001b[49m\n\u001b[0;32m   1526\u001b[0m \u001b[43m    \u001b[49m\u001b[43mcontent_or_path\u001b[49m\u001b[43m,\u001b[49m\u001b[43m \u001b[49m\u001b[38;5;124;43m\"\u001b[39;49m\u001b[38;5;124;43mrb\u001b[39;49m\u001b[38;5;124;43m\"\u001b[39;49m\u001b[43m,\u001b[49m\u001b[43m \u001b[49m\u001b[43mstorage_options\u001b[49m\u001b[38;5;241;43m=\u001b[39;49m\u001b[43mstorage_options\u001b[49m\u001b[43m,\u001b[49m\u001b[43m \u001b[49m\u001b[43mis_text\u001b[49m\u001b[38;5;241;43m=\u001b[39;49m\u001b[38;5;28;43;01mFalse\u001b[39;49;00m\n\u001b[0;32m   1527\u001b[0m \u001b[43m\u001b[49m\u001b[43m)\u001b[49m \u001b[38;5;28;01mas\u001b[39;00m handle:\n\u001b[0;32m   1528\u001b[0m     stream \u001b[38;5;241m=\u001b[39m handle\u001b[38;5;241m.\u001b[39mhandle\n\u001b[0;32m   1529\u001b[0m     stream\u001b[38;5;241m.\u001b[39mseek(\u001b[38;5;241m0\u001b[39m)\n",
      "File \u001b[1;32m~\\anaconda\\lib\\site-packages\\pandas\\io\\common.py:865\u001b[0m, in \u001b[0;36mget_handle\u001b[1;34m(path_or_buf, mode, encoding, compression, memory_map, is_text, errors, storage_options)\u001b[0m\n\u001b[0;32m    856\u001b[0m         handle \u001b[38;5;241m=\u001b[39m \u001b[38;5;28mopen\u001b[39m(\n\u001b[0;32m    857\u001b[0m             handle,\n\u001b[0;32m    858\u001b[0m             ioargs\u001b[38;5;241m.\u001b[39mmode,\n\u001b[1;32m   (...)\u001b[0m\n\u001b[0;32m    861\u001b[0m             newline\u001b[38;5;241m=\u001b[39m\u001b[38;5;124m\"\u001b[39m\u001b[38;5;124m\"\u001b[39m,\n\u001b[0;32m    862\u001b[0m         )\n\u001b[0;32m    863\u001b[0m     \u001b[38;5;28;01melse\u001b[39;00m:\n\u001b[0;32m    864\u001b[0m         \u001b[38;5;66;03m# Binary mode\u001b[39;00m\n\u001b[1;32m--> 865\u001b[0m         handle \u001b[38;5;241m=\u001b[39m \u001b[38;5;28;43mopen\u001b[39;49m\u001b[43m(\u001b[49m\u001b[43mhandle\u001b[49m\u001b[43m,\u001b[49m\u001b[43m \u001b[49m\u001b[43mioargs\u001b[49m\u001b[38;5;241;43m.\u001b[39;49m\u001b[43mmode\u001b[49m\u001b[43m)\u001b[49m\n\u001b[0;32m    866\u001b[0m     handles\u001b[38;5;241m.\u001b[39mappend(handle)\n\u001b[0;32m    868\u001b[0m \u001b[38;5;66;03m# Convert BytesIO or file objects passed with an encoding\u001b[39;00m\n",
      "\u001b[1;31mFileNotFoundError\u001b[0m: [Errno 2] No such file or directory: 'C:/Users/81906/Desktop/研究関連/NIMS_experiments/0710_sporomusa/0710_sporomusa_analysedata.csv'"
     ]
    }
   ],
   "source": [
    "#data information from sample_sheet\n",
    "sample_s = pd.read_excel(input_sheet, header = None, index_col = None)\n",
    "\n",
    "#name information\n",
    "med_name = sample_s.iloc[2,2:14]\n",
    "med_name=med_name.reset_index(drop=True)\n",
    "\n",
    "#data selection\n",
    "sample_s = sample_s.iloc[4:12,2:14]\n",
    "sample_s = sample_s.values\n",
    "sample_s = np.ravel(sample_s)\n",
    "sample_s = np.array([x for x in sample_s])\n",
    "CA_data=selected.iloc[:,::data_start]\n",
    "#CA_data=selected"
   ]
  },
  {
   "cell_type": "code",
   "execution_count": null,
   "id": "4efca2ab",
   "metadata": {},
   "outputs": [],
   "source": [
    "sample_s\n",
    "CA_data"
   ]
  },
  {
   "cell_type": "code",
   "execution_count": 8,
   "id": "8e097a88",
   "metadata": {},
   "outputs": [
    {
     "ename": "NameError",
     "evalue": "name 'sample_s' is not defined",
     "output_type": "error",
     "traceback": [
      "\u001b[1;31m---------------------------------------------------------------------------\u001b[0m",
      "\u001b[1;31mNameError\u001b[0m                                 Traceback (most recent call last)",
      "Cell \u001b[1;32mIn[8], line 2\u001b[0m\n\u001b[0;32m      1\u001b[0m \u001b[38;5;66;03m#sort\u001b[39;00m\n\u001b[1;32m----> 2\u001b[0m sample_s_sort\u001b[38;5;241m=\u001b[39mnp\u001b[38;5;241m.\u001b[39msort(\u001b[43msample_s\u001b[49m,kind\u001b[38;5;241m=\u001b[39m\u001b[38;5;124m\"\u001b[39m\u001b[38;5;124mmergesort\u001b[39m\u001b[38;5;124m\"\u001b[39m)\n\u001b[0;32m      3\u001b[0m sample_s_sort_id\u001b[38;5;241m=\u001b[39mnp\u001b[38;5;241m.\u001b[39margsort(sample_s,kind\u001b[38;5;241m=\u001b[39m\u001b[38;5;124m\"\u001b[39m\u001b[38;5;124mmergesort\u001b[39m\u001b[38;5;124m\"\u001b[39m)\n\u001b[0;32m      4\u001b[0m sample_CA_sort\u001b[38;5;241m=\u001b[39mselected\u001b[38;5;241m.\u001b[39miloc[:,sample_s_sort_id\u001b[38;5;241m*\u001b[39mdata_start]\n",
      "\u001b[1;31mNameError\u001b[0m: name 'sample_s' is not defined"
     ]
    }
   ],
   "source": [
    "#sort\n",
    "sample_s_sort=np.sort(sample_s,kind=\"mergesort\")\n",
    "sample_s_sort_id=np.argsort(sample_s,kind=\"mergesort\")\n",
    "sample_CA_sort=selected.iloc[:,sample_s_sort_id*data_start]"
   ]
  },
  {
   "cell_type": "code",
   "execution_count": 9,
   "id": "a35c98fd",
   "metadata": {},
   "outputs": [
    {
     "ename": "NameError",
     "evalue": "name 'CA_data' is not defined",
     "output_type": "error",
     "traceback": [
      "\u001b[1;31m---------------------------------------------------------------------------\u001b[0m",
      "\u001b[1;31mNameError\u001b[0m                                 Traceback (most recent call last)",
      "Cell \u001b[1;32mIn[9], line 8\u001b[0m\n\u001b[0;32m      5\u001b[0m plt\u001b[38;5;241m.\u001b[39msubplots_adjust(wspace\u001b[38;5;241m=\u001b[39m\u001b[38;5;241m0.7\u001b[39m, hspace\u001b[38;5;241m=\u001b[39m\u001b[38;5;241m0.7\u001b[39m)\n\u001b[0;32m      7\u001b[0m \u001b[38;5;66;03m#drawing\u001b[39;00m\n\u001b[1;32m----> 8\u001b[0m \u001b[38;5;28;01mfor\u001b[39;00m i \u001b[38;5;129;01min\u001b[39;00m \u001b[38;5;28mrange\u001b[39m (\u001b[38;5;28mint\u001b[39m(\u001b[43mCA_data\u001b[49m\u001b[38;5;241m.\u001b[39mshape[\u001b[38;5;241m1\u001b[39m])):\n\u001b[0;32m      9\u001b[0m     plt\u001b[38;5;241m.\u001b[39msubplot(\u001b[38;5;241m8\u001b[39m,\u001b[38;5;241m12\u001b[39m,i\u001b[38;5;241m+\u001b[39m\u001b[38;5;241m1\u001b[39m)\n\u001b[0;32m     10\u001b[0m     ydata \u001b[38;5;241m=\u001b[39m CA_data\u001b[38;5;241m.\u001b[39miloc[:,i]\n",
      "\u001b[1;31mNameError\u001b[0m: name 'CA_data' is not defined"
     ]
    },
    {
     "data": {
      "text/plain": [
       "<Figure size 12000x9000 with 0 Axes>"
      ]
     },
     "metadata": {},
     "output_type": "display_data"
    }
   ],
   "source": [
    "#All wells in 96 position\n",
    "\n",
    "#graph properties\n",
    "fig = plt.figure(figsize=(24, 18),dpi = 500)\n",
    "plt.subplots_adjust(wspace=0.7, hspace=0.7)\n",
    "\n",
    "#drawing\n",
    "for i in range (int(CA_data.shape[1])):\n",
    "    plt.subplot(8,12,i+1)\n",
    "    ydata = CA_data.iloc[:,i]\n",
    "    ydata = ydata*10**9\n",
    "    plt.title('['+chr(i//12+65)+str(i%12+1)+']'+'\\n'+str(sample_s[i]), fontsize=12)\n",
    "    plt.plot(xdata,ydata,linewidth=4,color='tab:red')\n",
    "    #plt.ylim(0, 200)\n",
    "plt.savefig(file_convert(r\"C:\\Users\\81906\\Desktop\\NIMS_experiments\\0606_experiment\\230606substrate_result\"),facecolor=\"white\",bbox_inches='tight')\n",
    "plt.show()\n"
   ]
  },
  {
   "cell_type": "code",
   "execution_count": null,
   "id": "1c45c57b",
   "metadata": {},
   "outputs": [],
   "source": [
    "#All wells in one figure\n",
    "\n",
    "#graph properties\n",
    "fig = plt.figure(figsize=(24, 18),dpi = 500)\n",
    "plt.subplots_adjust(wspace=0.7, hspace=0.7)\n",
    "\n",
    "CA_data=sample_CA_sort\n",
    "\n",
    "#drawing\n",
    "for i in range (int(CA_data.shape[1])):\n",
    "    ydata = CA_data.iloc[:,i]\n",
    "    #ydata = CA_data.iloc[:,i//8+(i%8)*12]\n",
    "    ydata = ydata*10**9\n",
    "    plt.xlabel('Time (hour)' ,fontsize = 20)\n",
    "    plt.ylabel('Current (nA)',fontsize = 20)\n",
    "    #if CA_data.iloc[2*60*60,i//8+(i%8)*12] > 800*10**(-9):\n",
    "        #color='blue'\n",
    "    #else: \n",
    "        #color='red'     \n",
    "    plt.plot(xdata,ydata,linewidth=0.5, label='['+chr(i//12+65)+str(i%12+1)+']')\n",
    "    legend = plt.legend(bbox_to_anchor=(0.5, 1.00), loc=\"lower center\", borderaxespad=0, fontsize=15, ncol = int(CA_data.shape[1]/8))\n",
    "plt.tick_params(labelsize=22)\n",
    "plt.ylim(0, 2000)\n",
    "plt.xlim(0,50)\n",
    "#plt.savefig('/Users/takashi/Desktop/test',facecolor=\"white\",bbox_inches='tight')\n",
    "plt.show()"
   ]
  },
  {
   "cell_type": "code",
   "execution_count": null,
   "id": "8702841a",
   "metadata": {},
   "outputs": [],
   "source": [
    "#sample replication\n",
    "sample_rep=[]\n",
    "def sample_rep_comb(data):\n",
    "    global sample_rep\n",
    "    for i in range(len(data)):\n",
    "        test=np.where(data==data[i])\n",
    "        if i == 0:\n",
    "            sample_rep.append(test)\n",
    "        else:\n",
    "            try:\n",
    "                if(sample_rep[len(sample_rep)-1][0] == test[0]).all():\n",
    "                    continue\n",
    "                else:\n",
    "                    sample_rep.append(test)\n",
    "            except:\n",
    "                sample_rep.append(test)\n",
    "    return sample_rep\n",
    "\n",
    "sample_rep = sample_rep_comb(sample_s_sort)\n",
    "\n",
    "#the number of rep\n",
    "rep_num=[]\n",
    "for i in range(len(sample_rep)):\n",
    "    rep_num.append(len(sample_rep[i][0]))"
   ]
  },
  {
   "cell_type": "code",
   "execution_count": null,
   "id": "af1faa05",
   "metadata": {},
   "outputs": [],
   "source": [
    "#compress_sample\n",
    "comp_sample=[]\n",
    "t=0\n",
    "for i in range(len(rep_num)):\n",
    "    comp_sample.append(sample_s_sort[t])\n",
    "    t=t+rep_num[i]"
   ]
  },
  {
   "cell_type": "code",
   "execution_count": null,
   "id": "8799da8c",
   "metadata": {},
   "outputs": [],
   "source": [
    "#corration of error peak\n",
    "def remove_error_peak(run,time_span,current):\n",
    "    if run == 1:\n",
    "        #default\n",
    "        CA_data=sample_CA_sort        \n",
    "        CA_diff=CA_data.diff(time_span)\n",
    "        CA_data_NaN=CA_data.where(np.abs(CA_diff)<current, np.nan)\n",
    "        CA_data_corr=CA_data_NaN.astype(float).interpolate()\n",
    "        #window=60\n",
    "        #CA_data_corr=CA_data_corr.rolling(window, center=True).mean()\n",
    "    elif run == 0:\n",
    "        CA_data_corr=sample_CA_sort\n",
    "    return CA_data_corr\n",
    "\n",
    "#(t)分前よりも(current)A変動\n",
    "peak_remove = 0 #No=0, run=1\n",
    "CA_error_peak_removed=remove_error_peak(peak_remove,1,1*-6)\n"
   ]
  },
  {
   "cell_type": "code",
   "execution_count": null,
   "id": "79c91bbf",
   "metadata": {},
   "outputs": [],
   "source": [
    "#baseline substraction\n",
    "#全体のminを引く\n",
    "def baseline_substraction(run):\n",
    "    CA_data_bs = pd.DataFrame(index=[])\n",
    "    if run == 1:\n",
    "        CA_first=CA_error_peak_removed\n",
    "        CA_first=CA_first.min()\n",
    "        CA_first=CA_first.reset_index()\n",
    "        for i in range (CA_error_peak_removed.shape[1]):\n",
    "            CA_data_bs.loc[:,i]=CA_error_peak_removed.iloc[:,i]-CA_first.loc[i].iloc[-1]\n",
    "    elif run == 0:\n",
    "        CA_data_bs=CA_error_peak_removed\n",
    "    return CA_data_bs\n",
    "\n",
    "\n",
    "Base_sub = 0 #0 = No,1=run\n",
    "CA_data_bs=baseline_substraction(Base_sub)"
   ]
  },
  {
   "cell_type": "code",
   "execution_count": null,
   "id": "2332f954",
   "metadata": {
    "scrolled": true
   },
   "outputs": [],
   "source": [
    "#Average with Standard Deviation\n",
    "\n",
    "replicate = 4\n",
    "n_comb = 3\n",
    "\n",
    "\n",
    "data_CA=CA_data_bs\n",
    "\n",
    "average = pd.DataFrame(columns=[int(x) for x in np.linspace(0,len(sample_rep)-1,len(sample_rep))])\n",
    "SD_check=[]\n",
    "SD_comb=[]\n",
    "for s in range(average.shape[1]):\n",
    "    f_col = s*replicate\n",
    "    e_col = f_col+replicate\n",
    "    sample_judge=data_CA.iloc[:,f_col:e_col]\n",
    "\n",
    "    #組み合わせを取得\n",
    "    combination_array=[]\n",
    "    for index in itertools.combinations(sample_judge.columns, n_comb):\n",
    "        combination_array.append(index)\n",
    "    comb=np.array(combination_array)\n",
    "    SD_comb.append(comb)\n",
    "\n",
    "    SD_min_all=[]\n",
    "    for t in range (0,int(sample_judge.shape[0]/60/60),1):\n",
    "        SD_array=[]\n",
    "        for current in comb:\n",
    "            SD_array.append(np.std(sample_judge.iloc[t*60*60,current%replicate]))\n",
    "            SD_min=SD_array.index(min(SD_array))\n",
    "        SD_min_all.append(SD_min)\n",
    "    SD_check.append(SD_min_all)\n",
    "    #print(SD_array)\n",
    "    mode = statistics.mode(SD_min_all)\n",
    "    sample_i= data_CA.iloc[:,comb[mode]]\n",
    "    average.loc[:,s] = np.mean(sample_i,axis=1)\n",
    "\n",
    "#smoothing range\n",
    "window=1*60*60\n",
    "\n",
    "CA_data_final=average.rolling(window, center=True).mean()"
   ]
  },
  {
   "cell_type": "code",
   "execution_count": null,
   "id": "ffd8c200",
   "metadata": {},
   "outputs": [],
   "source": [
    "print(\"SD_min_all:\", SD_min_all)\n",
    "print(\"min value:\", min(SD_min_all))\n",
    "print(\"max value:\", max(SD_min_all))\n",
    "print(\"mode:\", statistics.mode(SD_min_all))\n",
    "print(mode)"
   ]
  },
  {
   "cell_type": "code",
   "execution_count": null,
   "id": "7a0d40a8",
   "metadata": {},
   "outputs": [],
   "source": [
    "#Average\n",
    "def average(data):\n",
    "    CA_average = pd.DataFrame(columns=comp_sample)\n",
    "    for s in range(len(sample_rep)):\n",
    "        CA_average.iloc[:,s] = np.mean(data.iloc[:,sample_rep[s][0]],axis=1)\n",
    "    return CA_average\n",
    "\n",
    "CA_data_final=average(CA_data_bs)\n",
    "\n",
    "#smoothing range\n",
    "window=1*60\n",
    "CA_data_final=CA_data_final.rolling(window, center=True).mean()"
   ]
  },
  {
   "cell_type": "code",
   "execution_count": null,
   "id": "1b297d0c",
   "metadata": {},
   "outputs": [],
   "source": [
    "CA_data_final.iloc[100:500,5]"
   ]
  },
  {
   "cell_type": "code",
   "execution_count": null,
   "id": "632118a5",
   "metadata": {},
   "outputs": [],
   "source": [
    "#All CA data (Average)\n",
    "\n",
    "#graph proerties\n",
    "fig = plt.figure(dpi=500)\n",
    "plt.rcParams['font.family'] = 'Arial'\n",
    "sns.set()\n",
    "sns.set_style('ticks')\n",
    "sns.set_palette('hls',CA_data_final.shape[1])\n",
    "ax = fig.add_subplot(111)\n",
    "plt.xlabel('Time (hour)' ,fontsize = 15)\n",
    "plt.ylabel('Current (nA)',fontsize = 15)\n",
    "\n",
    "#drawing\n",
    "t=0\n",
    "for i in range(int(CA_data_final.shape[1])):\n",
    "    #if i in [0,1,2,3]:\n",
    "    ydata = CA_data_final.iloc[:,i]\n",
    "    ydata = ydata*10**9\n",
    "    plt.plot(xdata,ydata,linewidth=0.5, label=sample_s_sort[t])\n",
    "    t=t+rep_num[i]\n",
    "    legend = plt.legend(bbox_to_anchor=(0.5, 1.00), loc=\"lower center\", borderaxespad=0, fontsize=8, ncol = 4)\n",
    "plt.ylim(0, 2000)\n",
    "plt.tick_params(labelsize=12)\n",
    "#plt.savefig('/Users/takashi/Desktop/med_ecoli_1nA+1sec_min_1h_rolling',facecolor=\"white\",bbox_inches='tight')\n",
    "plt.show"
   ]
  },
  {
   "cell_type": "code",
   "execution_count": null,
   "id": "864a3d5e",
   "metadata": {},
   "outputs": [],
   "source": [
    "#current\n",
    "CA_data_final_current=CA_data_final.iloc[1*60:10*60,:].max()"
   ]
  },
  {
   "cell_type": "code",
   "execution_count": null,
   "id": "c020a3a7",
   "metadata": {},
   "outputs": [],
   "source": [
    "CA_data_final_current"
   ]
  },
  {
   "cell_type": "code",
   "execution_count": null,
   "id": "2dc67ca7",
   "metadata": {},
   "outputs": [],
   "source": [
    "#slope\n",
    "CA_data_final_slope=CA_data_final.diff()\n",
    "slope_max=CA_data_final_slope.iloc[1*60:10*60,:].max()"
   ]
  },
  {
   "cell_type": "code",
   "execution_count": null,
   "id": "6c04127c",
   "metadata": {},
   "outputs": [],
   "source": [
    "pd.set_option('display.max_rows', None)\n",
    "slope_max"
   ]
  },
  {
   "cell_type": "code",
   "execution_count": null,
   "id": "8a761ac0",
   "metadata": {},
   "outputs": [],
   "source": [
    "#classification\n",
    "if \"CA_data_1\" in locals():\n",
    "    del CA_data_1\n",
    "\n",
    "if \"CA_data_2\" in locals():\n",
    "    del CA_data_2\n",
    "\n",
    "for x in range(CA_data_bs.shape[1]):\n",
    "    if CA_data_bs.iloc[2*60*60,x] > 800*10**(-9):\n",
    "        #if x != 56:\n",
    "        if \"CA_data_1\" not in locals():\n",
    "            CA_data_1=CA_data_bs.iloc[:,x]\n",
    "        else:\n",
    "            CA_data_1 = pd.concat([CA_data_1, CA_data_bs.iloc[:,x]], axis = 1)\n",
    "    else:\n",
    "        if \"CA_data_2\" not in locals():\n",
    "            CA_data_2=CA_data_bs.iloc[:,x]\n",
    "        else:\n",
    "            CA_data_2 = pd.concat([CA_data_2, CA_data_bs.iloc[:,x]], axis = 1)"
   ]
  },
  {
   "cell_type": "code",
   "execution_count": null,
   "id": "04ca59c5",
   "metadata": {},
   "outputs": [],
   "source": [
    "#All wells in one figure\n",
    "\n",
    "#graph properties\n",
    "fig = plt.figure(figsize=(24, 18),dpi = 500)\n",
    "plt.subplots_adjust(wspace=0.7, hspace=0.7)\n",
    "\n",
    "data=CA_data_1_slope\n",
    "\n",
    "#drawing\n",
    "for i in range (int(data.shape[1])):\n",
    "    ydata = data.iloc[:,i]\n",
    "    ydata = ydata*10**9\n",
    "    plt.xlabel('Time (hour)' ,fontsize = 20)\n",
    "    plt.ylabel('Slope (nA/s)',fontsize = 20)\n",
    "    plt.plot(xdata,ydata,linewidth=0.5, label=sample_s[i])\n",
    "    legend = plt.legend(bbox_to_anchor=(0.5, 1.00), loc=\"lower center\", borderaxespad=0, fontsize=15, ncol = int(CA_data.shape[1]/12))\n",
    "plt.tick_params(labelsize=22)\n",
    "#plt.ylim(0, 1500)\n",
    "plt.savefig('/Users/takashi/Desktop/well_error_blue_slope',facecolor=\"white\",bbox_inches='tight')\n",
    "plt.show()"
   ]
  },
  {
   "cell_type": "code",
   "execution_count": null,
   "id": "5971666f",
   "metadata": {},
   "outputs": [],
   "source": [
    "#slope\n",
    "CA_data_1_slope=CA_data_1.diff()\n",
    "CA_data_2_slope=CA_data_2.diff()\n",
    "\n",
    "#slope max\n",
    "#slope_max1=CA_data_1_slope.iloc[1*60*60:10*60*60,:].max()\n",
    "slope_max1=CA_data_1_slope.max()\n",
    "slope_max2=CA_data_2_slope.iloc[1*60*60:10*60*60,:].max()\n",
    "#slope_max_time=CA_slope.iloc[1*60*60:10*60*60,:].astype(float).idx"
   ]
  },
  {
   "cell_type": "code",
   "execution_count": null,
   "id": "88412d3c",
   "metadata": {},
   "outputs": [],
   "source": [
    "pd.set_option('display.max_rows', None)\n",
    "slope_max1"
   ]
  },
  {
   "cell_type": "code",
   "execution_count": null,
   "id": "38b54456",
   "metadata": {},
   "outputs": [],
   "source": [
    "#class1\n",
    "slope_max_ave1=np.average(slope_max1)\n",
    "#slope_max_max1=slope_max1.max()\n",
    "#slope_max_min1=slope_max1.min()"
   ]
  },
  {
   "cell_type": "code",
   "execution_count": null,
   "id": "6a332833",
   "metadata": {},
   "outputs": [],
   "source": [
    "slope_max_ave1"
   ]
  },
  {
   "cell_type": "code",
   "execution_count": null,
   "id": "e6a8e8b8",
   "metadata": {},
   "outputs": [],
   "source": [
    "np.std(slope_max1,ddof=1)"
   ]
  },
  {
   "cell_type": "code",
   "execution_count": null,
   "id": "4c119189",
   "metadata": {},
   "outputs": [],
   "source": [
    "np.std(slope_max1,ddof=1)/slope_max_ave1"
   ]
  },
  {
   "cell_type": "code",
   "execution_count": null,
   "id": "1985648c",
   "metadata": {},
   "outputs": [],
   "source": [
    "#average\n",
    "#3.164552768738598e-11→3.085882828681274e-11\n",
    "\n",
    "#std\n",
    "#7.373630864365914e-12→3.953747388713915e-12"
   ]
  },
  {
   "cell_type": "code",
   "execution_count": null,
   "id": "b291f77f",
   "metadata": {},
   "outputs": [],
   "source": [
    "#average\n",
    "#9.70638213501103e-11→9.701896761242688e-11\n",
    "\n",
    "#std\n",
    "#7.373630864365914e-12→5.6064920628095944e-12\n",
    "\n",
    "#error\n",
    "#0.05741046211099879→0.057787587322166836"
   ]
  },
  {
   "cell_type": "code",
   "execution_count": null,
   "id": "73805a21",
   "metadata": {},
   "outputs": [],
   "source": [
    "#class2\n",
    "slope_max_ave2=np.average(slope_max2)\n",
    "#slope_max_max1=slope_max1.max()\n",
    "#slope_max_min1=slope_max1.min()\n",
    "np.std(slope_max2,ddof=1)/slope_max_ave2"
   ]
  },
  {
   "cell_type": "code",
   "execution_count": null,
   "id": "ebef934b",
   "metadata": {},
   "outputs": [],
   "source": [
    "np.std(slope_max2,ddof=1)"
   ]
  },
  {
   "cell_type": "code",
   "execution_count": null,
   "id": "a1f6c3f0",
   "metadata": {},
   "outputs": [],
   "source": [
    "abs((slope_max_ave1-slope_max_max1)/slope_max_ave1)*100"
   ]
  },
  {
   "cell_type": "code",
   "execution_count": null,
   "id": "e07af154",
   "metadata": {},
   "outputs": [],
   "source": [
    "abs((slope_max_ave1-slope_max_min1)/slope_max_ave1)*100"
   ]
  },
  {
   "cell_type": "code",
   "execution_count": null,
   "id": "0c00d7bb",
   "metadata": {},
   "outputs": [],
   "source": [
    "#class2\n",
    "slope_max_ave2=np.average(slope_max2)\n",
    "slope_max_max2=slope_max2.max()\n",
    "slope_max_min2=slope_max2.min()"
   ]
  },
  {
   "cell_type": "code",
   "execution_count": null,
   "id": "97662c52",
   "metadata": {},
   "outputs": [],
   "source": [
    "abs((slope_max_ave2-slope_max_max2)/slope_max_ave2)*100"
   ]
  },
  {
   "cell_type": "code",
   "execution_count": null,
   "id": "1186df8a",
   "metadata": {},
   "outputs": [],
   "source": [
    "abs((slope_max_ave2-slope_max_min2)/slope_max_ave2)*100"
   ]
  },
  {
   "cell_type": "code",
   "execution_count": null,
   "id": "bfd06ac1",
   "metadata": {},
   "outputs": [],
   "source": [
    "#Average220803_thio_conc\n",
    "def average(data):\n",
    "    CA_average = pd.DataFrame(columns=comp_sample)\n",
    "    for s in range(len(sample_rep)):\n",
    "        sample_s_sort2=np.sort(data.iloc[:,sample_rep[s][0]].max(),kind=\"mergesort\")\n",
    "        sample_s_sort_id2=np.argsort(data.iloc[:,sample_rep[s][0]].max(),kind=\"mergesort\")\n",
    "        CA_average.iloc[:,s]=np.mean(CA_data_bs.loc[:,sample_s_sort_id2.index[np.array(sample_s_sort_id2[-2:])]],axis=1)\n",
    "    return CA_average\n",
    "CA_data_final=average(CA_data_bs)"
   ]
  },
  {
   "cell_type": "code",
   "execution_count": null,
   "id": "31f44792",
   "metadata": {},
   "outputs": [],
   "source": [
    "CA_data_final.max()"
   ]
  },
  {
   "cell_type": "code",
   "execution_count": null,
   "id": "d9f24e06",
   "metadata": {},
   "outputs": [],
   "source": [
    "##All wells in one sample with average##\n",
    "\n",
    "#def allwell_average(data_name, file_name):\n",
    "#graph proerties\n",
    "\n",
    "data_name=CA_data_bs\n",
    "replicate=96\n",
    "\n",
    "fig = plt.figure(figsize=(60, 200))\n",
    "plt.rcParams['font.family'] = 'Arial'\n",
    "sns.set()\n",
    "sns.set_style('ticks')\n",
    "sns.set_palette('hls',CA_data_final.shape[1])\n",
    "ax = fig.add_subplot(111)\n",
    "\n",
    "#drawing\n",
    "t=0\n",
    "for i in range (len(rep_num)):\n",
    "    for t in range(i*replicate,(i+1)*replicate):\n",
    "        plt.subplot(int(data_name.shape[1]/3),3,i+1)\n",
    "        plt.xlabel('Time (hour)' ,fontsize = 25)\n",
    "        plt.xticks(fontsize=20)\n",
    "        plt.ylabel('Current (nA)',fontsize = 25)\n",
    "        plt.yticks(fontsize=20)\n",
    "        ydata = np.std(data_name.iloc[:,t])\n",
    "        ydata = ydata*10**9\n",
    "        plt.plot(xdata,ydata,linewidth=1,color='gray')\n",
    "    #drawing with average\n",
    "    ydata_a = CA_data_final.iloc[:,i]\n",
    "    ydata_a = ydata_a*10**9\n",
    "    plt.plot(xdata,ydata_a,linewidth=1, color='red')\n",
    "    plt.subplots_adjust(wspace=0.3, hspace=0.5)\n",
    "    plt.title(sample_s_sort[t],fontsize=30)\n",
    "    t=t+rep_num[i]\n",
    "    plt.ylim(0, 1500)\n",
    "#plt.ioff()\n",
    "#plt.savefig(dirname+bac_name+date+'replicate+average'+file_name,bbox_inches='tight')\n",
    "#plt.savefig('ecoli-aerobic-220619_average_EP_BS_SD8of12'+file_name,bbox_inches='tight')\n",
    "#plt.close(fig)\n",
    "plt.show()\n",
    "\n",
    "#allwell_average(CA_data, 'rawdata')\n",
    "#allwell_average(CA_data_bs, 'correction')"
   ]
  },
  {
   "cell_type": "code",
   "execution_count": null,
   "id": "f9abb761",
   "metadata": {},
   "outputs": [],
   "source": [
    "#slope\n",
    "CA_slope=CA_data_bs.diff()\n",
    "\n",
    "#slope max\n",
    "slope_max=CA_slope.iloc[1*60*60:10*60*60,:].max()\n",
    "#slope_max_time=CA_slope.iloc[1*60*60:10*60*60,:].astype(float).idx"
   ]
  },
  {
   "cell_type": "code",
   "execution_count": null,
   "id": "1817733a",
   "metadata": {},
   "outputs": [],
   "source": [
    "slope_max\n",
    "slope_max_ave=np.average(slope_max)\n",
    "slope_max_max=slope_max.max()\n",
    "slope_max_min=slope_max.min()"
   ]
  },
  {
   "cell_type": "code",
   "execution_count": null,
   "id": "626e01b4",
   "metadata": {},
   "outputs": [],
   "source": [
    "abs((slope_max_ave-slope_max_max)/slope_max_ave)*100"
   ]
  },
  {
   "cell_type": "code",
   "execution_count": null,
   "id": "306f0e14",
   "metadata": {},
   "outputs": [],
   "source": [
    "abs((slope_max_ave-slope_max_min)/slope_max_ave)*100"
   ]
  },
  {
   "cell_type": "code",
   "execution_count": null,
   "id": "9b59859b",
   "metadata": {},
   "outputs": [],
   "source": [
    "slope_max_ave"
   ]
  },
  {
   "cell_type": "code",
   "execution_count": null,
   "id": "a71f715e",
   "metadata": {},
   "outputs": [],
   "source": [
    "slope_max_min"
   ]
  },
  {
   "cell_type": "code",
   "execution_count": null,
   "id": "d4a8678c",
   "metadata": {},
   "outputs": [],
   "source": [
    "(slope_max_ave-slope_max_max)/slope_max_ave"
   ]
  },
  {
   "cell_type": "code",
   "execution_count": null,
   "id": "73fe3760",
   "metadata": {},
   "outputs": [],
   "source": []
  }
 ],
 "metadata": {
  "kernelspec": {
   "display_name": "data_analysis",
   "language": "python",
   "name": "data_analysis"
  },
  "language_info": {
   "codemirror_mode": {
    "name": "ipython",
    "version": 3
   },
   "file_extension": ".py",
   "mimetype": "text/x-python",
   "name": "python",
   "nbconvert_exporter": "python",
   "pygments_lexer": "ipython3",
   "version": "3.10.9"
  }
 },
 "nbformat": 4,
 "nbformat_minor": 5
}
