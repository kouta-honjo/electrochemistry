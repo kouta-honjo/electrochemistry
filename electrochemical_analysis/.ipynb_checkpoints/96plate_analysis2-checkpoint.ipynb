{
 "cells": [
  {
   "cell_type": "code",
   "execution_count": null,
   "id": "49d62ef4",
   "metadata": {},
   "outputs": [],
   "source": [
    "import re\n",
    "import numpy as np\n",
    "import sys\n",
    "import copy\n",
    "import pandas as pd\n",
    "import os\n",
    "import math\n",
    "import statistics\n",
    "from os.path import join\n",
    "import matplotlib.pyplot as plt \n",
    "from matplotlib import cm\n",
    "import datetime\n",
    "import itertools\n",
    "import seaborn as sns"
   ]
  },
  {
   "cell_type": "code",
   "execution_count": null,
   "id": "01b7ebb2",
   "metadata": {},
   "outputs": [],
   "source": [
    "def file_convert(file_name):\n",
    "    correct_name=file_name.replace(chr(92),'/')\n",
    "    return correct_name"
   ]
  },
  {
   "cell_type": "code",
   "execution_count": null,
   "id": "49b0d5f2",
   "metadata": {},
   "outputs": [],
   "source": [
    "#import data\n",
    "input_data = r\"C:\\Users\\81906\\Desktop\\NIMS_experiments\\0606_experiment\\substrate_0606_Honjo\"\n",
    "input_data = file_convert(input_data)\n",
    "#import sample_sheet #Excel file\n",
    "input_sheet = r\"C:\\Users\\81906\\Desktop\\NIMS_experiments\\0606_experiment\\230605substrate_fujikawa.xlsx\"\n",
    "input_sheet = file_convert(input_sheet)\n"
   ]
  },
  {
   "cell_type": "code",
   "execution_count": null,
   "id": "394a11e9",
   "metadata": {},
   "outputs": [],
   "source": [
    "# data selecting #indexはベースラインに合わせておく\n",
    "data_start = 1\n",
    "def import_data(input_data):\n",
    "    #data selection\n",
    "    global data_start\n",
    "    data = pd.read_csv(input_data, header = None, index_col = None, sep = \",\")\n",
    "    \n",
    "    if data.iloc[0,1]=='start':\n",
    "        data_start=data_start+1\n",
    "    selected = data.iloc[:,data_start:] \n",
    "    \n",
    "    #inoculation_time\n",
    "    time=data.iloc[:,0]\n",
    "    time_over=pd.to_datetime(time, format='%Y/%m/%d %H:%M:%S').diff()\n",
    "    time_over=time_over[::-1]\n",
    "    inoculation_time = time_over[time_over > datetime.timedelta(minutes=2)].index[2]+1\n",
    "    \n",
    "    #230516_honjo\n",
    "    #inoculation_time = time_over[time_over > datetime.timedelta(minutes=15)].index[0]+1\n",
    "\n",
    "    #blank_time\n",
    "    blank_time_min=str(time_over[inoculation_time-1]).split(':')[1]\n",
    "    blank_time=pd.DataFrame(index=[t for t in range(int(blank_time_min))],columns=[x for x in range(0,int(selected.shape[1]/2))])\n",
    "    baseline = data.iloc[inoculation_time-2,data_start::data_start]\n",
    "    \n",
    "    #菌体接種後のみ\n",
    "    CA_data=data.iloc[inoculation_time:,data_start::data_start]\n",
    "    baseline_data=data.iloc[:inoculation_time-2,data_start::data_start]\n",
    "    \n",
    "    #reset_columns index\n",
    "    CA_data.columns = [x for x in range(CA_data.shape[1])]\n",
    "    baseline=baseline.reset_index(drop=True)\n",
    "    baseline_data.columns=[x for x in range(CA_data.shape[1])]\n",
    "    blank_time.columns=[x for x in range(CA_data.shape[1])]\n",
    "    \n",
    "    #time calculation\n",
    "    dt1=data[0][1]\n",
    "    dt2=data[0][2]\n",
    "    tdatetime1 = datetime.datetime.strptime(dt1, '%Y/%m/%d %H:%M:%S')\n",
    "    tdatetime2 = datetime.datetime.strptime(dt2, '%Y/%m/%d %H:%M:%S')\n",
    "    tdelta=tdatetime2-tdatetime1\n",
    "    \n",
    "    return tdelta,data_start,CA_data,baseline,inoculation_time,baseline_data,blank_time,selected\n",
    "\n",
    "tdelta,data_start,CA_data,baseline,inoculation_time,baseline_data,blank_time,selected = import_data(input_data)\n",
    "\n",
    "print(inoculation_time)\n",
    "print(blank_time.shape[0])"
   ]
  },
  {
   "cell_type": "code",
   "execution_count": null,
   "id": "98624840",
   "metadata": {
    "scrolled": true
   },
   "outputs": [],
   "source": [
    "#電流値データ出力　［経過時間（分），列］\n",
    "#[インデックス番号,ステップサイズ]\n",
    "#selected;inoculation_timeで出力した上の値ｰ２が菌体接種直前の時間である。\n",
    "selected2.iloc[176,:]"
   ]
  },
  {
   "cell_type": "code",
   "execution_count": null,
   "id": "bd349890",
   "metadata": {},
   "outputs": [],
   "source": [
    "selected2"
   ]
  },
  {
   "cell_type": "code",
   "execution_count": null,
   "id": "f769503d",
   "metadata": {},
   "outputs": [],
   "source": [
    "#yaru\n",
    "input_sheet = r\"C:\\Users\\81906\\Desktop\\NIMS_experiments\\0606_experiment\\230605substrate_fujikawa.xlsx\"\n",
    "input_sheet = file_convert(input_sheet)\n",
    "sample_s1 = pd.read_excel(input_sheet,sheet_name = \"Memo\", header = None, index_col = None)\n",
    "sample_s1 = sample_s1.iloc[4:12,2:14]\n",
    "sample_s1 = sample_s1.values\n",
    "sample_s1 = np.ravel(sample_s1)"
   ]
  },
  {
   "cell_type": "code",
   "execution_count": null,
   "id": "1d81b00a",
   "metadata": {},
   "outputs": [],
   "source": [
    "sample_s1"
   ]
  },
  {
   "cell_type": "code",
   "execution_count": null,
   "id": "3167ff17",
   "metadata": {},
   "outputs": [],
   "source": [
    "#time conversion\n",
    "def time(data):\n",
    "    timescale=\"hour\"\n",
    "    #timescale=\"min\"\n",
    "\n",
    "    time = data.index.values\n",
    "    if timescale == \"hour\":\n",
    "        xdata = (time/3600)*tdelta.seconds\n",
    "    elif timescale == \"min\":\n",
    "        xdata = (time/60)*tdelta.seconds\n",
    "    return xdata\n",
    "\n",
    "xdata=time(selected)"
   ]
  },
  {
   "cell_type": "code",
   "execution_count": null,
   "id": "7e850518",
   "metadata": {},
   "outputs": [],
   "source": [
    "#data information from sample_sheet #yaranai\n",
    "#sample_s = pd.read_excel(input_sheet, header = None, index_col = None)\n",
    "sample_s = pd.read_excel(input_sheet,sheet_name = \"Memo\", header = None, index_col = None)\n",
    "#data selection\n",
    "sample_info=sample_s.iloc[2,2:14]\n",
    "sample_s = sample_s.iloc[4:12,2:14]\n",
    "sample_s = sample_s.values\n",
    "sample_s = np.ravel(sample_s)\n",
    "#sample_s = np.array([x for x in sample_s])\n",
    "#for i in range(len(sample_s)):\n",
    "   # if not pd.isna(sample_info[i%12+2]):\n",
    "        #sample_s[i]=sample_info[i%12+2]+'+'+sample_s[i]\n",
    "   # else:\n",
    "        #continue"
   ]
  },
  {
   "cell_type": "code",
   "execution_count": null,
   "id": "8e097a88",
   "metadata": {},
   "outputs": [],
   "source": [
    "#sort\n",
    "sample_s_sort=np.sort(sample_s1,kind=\"mergesort\")\n",
    "sample_s_sort_id=np.argsort(sample_s1,kind=\"mergesort\")\n",
    "sample_CA_sort=selected.iloc[:,sample_s_sort_id*data_start]\n",
    "\n",
    "CA_data=CA_data.iloc[:,sample_s_sort_id]\n",
    "baseline=baseline[sample_s_sort_id]\n",
    "baseline_data=baseline_data.iloc[:,sample_s_sort_id]\n",
    "blank_time=blank_time.iloc[:,sample_s_sort_id]\n",
    "\n",
    "CA_data.columns=[x for x in range(CA_data.shape[1])]\n",
    "baseline=baseline.reset_index(drop=True)\n",
    "baseline_data.columns=[x for x in range(baseline_data.shape[1])]\n",
    "blank_time.columns=[x for x in range(blank_time.shape[1])]\n",
    "\n"
   ]
  },
  {
   "cell_type": "code",
   "execution_count": null,
   "id": "91220c9f",
   "metadata": {},
   "outputs": [],
   "source": [
    "sample_s_sort"
   ]
  },
  {
   "cell_type": "code",
   "execution_count": null,
   "id": "3332f199",
   "metadata": {},
   "outputs": [],
   "source": [
    "CA_data"
   ]
  },
  {
   "cell_type": "code",
   "execution_count": null,
   "id": "50c05420",
   "metadata": {},
   "outputs": [],
   "source": [
    "#データ選択\n",
    "selected2=selected.iloc[:,::2]"
   ]
  },
  {
   "cell_type": "code",
   "execution_count": null,
   "id": "a35c98fd",
   "metadata": {},
   "outputs": [],
   "source": [
    "#All wells in 96 position\n",
    "\n",
    "#graph properties\n",
    "fig = plt.figure(figsize=(24, 18),dpi = 500)\n",
    "plt.subplots_adjust(wspace=0.7, hspace=0.7)\n",
    "\n",
    "#drawing\n",
    "for i in range (int(CA_data.shape[1])):\n",
    "    plt.subplot(8,12,i+1)\n",
    "    ydata = selected2.iloc[:,i]\n",
    "    ydata = ydata*10**9\n",
    "    plt.title('['+chr(i//12+65)+str(i%12+1)+']'+'\\n'+str(sample_s[i]), fontsize=12)\n",
    "    plt.plot(xdata,ydata,linewidth=4,color='tab:red')\n",
    "    plt.ylim(0, 2000)\n",
    "    plt.xlim(0,10)\n",
    "#plt.savefig(r\"C:\\Users\\81906\\Desktop\\NIMS_experiments\\0606_experiment\\substrate_0606_result\")\n",
    "plt.show()"
   ]
  },
  {
   "cell_type": "code",
   "execution_count": null,
   "id": "1c45c57b",
   "metadata": {},
   "outputs": [],
   "source": [
    "#All wells in one figure\n",
    "\n",
    "#graph properties\n",
    "fig = plt.figure(figsize=(24, 18),dpi = 500)\n",
    "plt.subplots_adjust(wspace=0.7, hspace=0.7)\n",
    "\n",
    "#drawing\n",
    "for i in range (int(selected2.shape[1])):\n",
    "    ydata = selected2.iloc[:,i]\n",
    "    ydata = ydata*10**9\n",
    "    plt.xlabel('Time (hour)' ,fontsize = 20)\n",
    "    plt.ylabel('Current (nA)',fontsize = 20)\n",
    "    plt.plot(xdata,ydata,linewidth=0.5, label=\n",
    "             '['+chr(i//12+65)+str(i%12+1)+']')\n",
    "    legend = plt.legend(bbox_to_anchor=(0.5, 1.05), loc=\"lower center\", borderaxespad=0, fontsize=15, ncol = int(CA_data.shape[1]/8))\n",
    "plt.tick_params(labelsize=22)\n",
    "plt.ylim(-100, 1500)\n",
    "#plt.xlim(0, 6)\n",
    "#plt.savefig(r\"C:\\Users\\81906\\Desktop\\NIMS_experiments\\0606_experiment\\substrate_0606_result.xlsx\")\n",
    "plt.show()"
   ]
  },
  {
   "cell_type": "code",
   "execution_count": null,
   "id": "8702841a",
   "metadata": {},
   "outputs": [],
   "source": [
    "#sample replication\n",
    "sample_rep=[]\n",
    "def sample_rep_comb(data):\n",
    "    global sample_rep\n",
    "    for i in range(len(data)):\n",
    "        test=np.where(data==data[i])\n",
    "        if i == 0:\n",
    "            sample_rep.append(test)\n",
    "        else:\n",
    "            try:\n",
    "                if(sample_rep[len(sample_rep)-1][0] == test[0]).all():\n",
    "                    continue\n",
    "                else:\n",
    "                    sample_rep.append(test)\n",
    "            except:\n",
    "                sample_rep.append(test)\n",
    "    return sample_rep\n",
    "\n",
    "sample_rep = sample_rep_comb(sample_s_sort)\n",
    "\n",
    "#the number of rep\n",
    "rep_num=[]\n",
    "for i in range(len(sample_rep)):\n",
    "    rep_num.append(len(sample_rep[i][0]))\n",
    "    \n",
    "#compress_sample\n",
    "comp_sample=[]\n",
    "#t=0\n",
    "for i in range(len(sample_rep)):\n",
    "    comp_sample.append(sample_s_sort[sample_rep[i]][0])"
   ]
  },
  {
   "cell_type": "code",
   "execution_count": null,
   "id": "8799da8c",
   "metadata": {},
   "outputs": [],
   "source": [
    "#corration of error peak　＃ノイズ除去\n",
    "def remove_error_peak(run,data,time_span,current):\n",
    "    if run == 1:\n",
    "        #default\n",
    "        #CA_data=sample_CA_sort \n",
    "        CA_diff=data.diff(time_span)\n",
    "        CA_data_NaN=data.where(np.abs(CA_diff)<current, np.nan)\n",
    "        CA_data_corr=CA_data_NaN.astype(float).interpolate()\n",
    "        #window=60\n",
    "        #CA_data_corr=CA_data_corr.rolling(window, center=True).mean()\n",
    "    elif run == 0:\n",
    "        CA_data_corr=data\n",
    "    return CA_data_corr\n",
    "\n",
    "#(t)秒前よりも(current)A変動\n",
    "peak_remove = 0 #No=0, run=1\n",
    "\n",
    "CA_error_peak_removed=remove_error_peak(peak_remove,CA_data,1,1*10**-9)\n",
    "CA_error_peak_removed_baseline=remove_error_peak(peak_remove,baseline_data,1,1*10**-9)\n",
    "CA_error_peak_removed_blank_time=remove_error_peak(peak_remove,blank_time,1,1*10**-9)"
   ]
  },
  {
   "cell_type": "code",
   "execution_count": null,
   "id": "b83e93b8",
   "metadata": {},
   "outputs": [],
   "source": [
    "CA_data"
   ]
  },
  {
   "cell_type": "code",
   "execution_count": null,
   "id": "79c91bbf",
   "metadata": {},
   "outputs": [],
   "source": [
    "#baseline substraction 　＃やらない　最小値をベースラインとして全体から引く\n",
    "#全体のminを引く\n",
    "def baseline_substraction(run):\n",
    "    CA_data_bs = pd.DataFrame(index=[])\n",
    "    if run == 1:\n",
    "        CA_first=CA_error_peak_removed\n",
    "        CA_first=CA_first.min()\n",
    "        CA_first=CA_first.reset_index()\n",
    "        for i in range (CA_error_peak_removed.shape[1]):\n",
    "            CA_data_bs.loc[:,i]=CA_error_peak_removed.iloc[:,i]-CA_first.loc[i].iloc[-1]\n",
    "    elif run == 0:\n",
    "        CA_data_bs=CA_error_peak_removed\n",
    "    return CA_data_bs\n",
    "\n",
    "\n",
    "Base_sub = 1 #0 = No,1=run\n",
    "CA_data_bs=baseline_substraction(Base_sub)"
   ]
  },
  {
   "cell_type": "code",
   "execution_count": null,
   "id": "317023de",
   "metadata": {},
   "outputs": [],
   "source": [
    "#baseline substraction\n",
    "#inoculationの前を引く\n",
    "def baseline_substraction(run,data):\n",
    "    if run == 1:\n",
    "        CA_data_bs=data-baseline\n",
    "    elif run == 0:\n",
    "        CA_data_bs=data\n",
    "    return CA_data_bs\n",
    "\n",
    "Base_sub = 1 #0 = No,1=run\n",
    "CA_data_bs=baseline_substraction(Base_sub,CA_error_peak_removed)\n",
    "CA_data_bs_baselline=baseline_substraction(Base_sub,CA_error_peak_removed_baseline)\n",
    "CA_data_bs_blank_time=baseline_substraction(Base_sub,CA_error_peak_removed_blank_time)"
   ]
  },
  {
   "cell_type": "code",
   "execution_count": null,
   "id": "2332f954",
   "metadata": {},
   "outputs": [],
   "source": [
    "#Average with Standard Deviation　＃やらない\n",
    "\n",
    "replicate = 8\n",
    "n_comb = 5\n",
    "\n",
    "import collections\n",
    "\n",
    "def average(data):\n",
    "    ave = pd.DataFrame(columns=[int(x) for x in np.linspace(0,int((data.shape[1])/replicate)-1,int((data.shape[1])/replicate))])\n",
    "    SD_check=[]\n",
    "    SD_comb=[]\n",
    "    for s in range(ave.shape[1]):\n",
    "        f_col = s*replicate\n",
    "        e_col = f_col+replicate\n",
    "        sample_judge=data.iloc[:,f_col:e_col]\n",
    "\n",
    "        #組み合わせを取得\n",
    "        combination_array=[]\n",
    "        for index in itertools.combinations(sample_judge.columns, n_comb):\n",
    "            combination_array.append(index)\n",
    "        comb=np.array(combination_array)\n",
    "        SD_comb.append(comb)\n",
    "\n",
    "        SD_min_all=[]\n",
    "        for t in range (0,int(sample_judge.shape[0]/60),1):\n",
    "            SD_array=[]\n",
    "            for current in comb:\n",
    "                SD_array.append(np.std(sample_judge.iloc[t*60,current%replicate]))\n",
    "                SD_min=SD_array.index(min(SD_array))\n",
    "            SD_min_all.append(SD_min)\n",
    "        SD_check.append(SD_min_all)\n",
    "        #mode = statistics.mode(SD_min_all)\n",
    "        mode = collections.Counter(SD_min_all).most_common()[0][0]\n",
    "        sample_i=data.loc[:,comb[mode]]\n",
    "        print(sample_i)\n",
    "        ave.loc[:,s] = np.mean(sample_i,axis=1)\n",
    "        \n",
    "    return ave\n",
    "    \n",
    "CA_data_final=average(CA_data_bs)\n",
    "#average_for10=average(CA_data_rep10)\n",
    "\n",
    "#smoothing range\n",
    "window=1*60\n",
    "\n",
    "#average_for10=average_for10.rolling(window, center=True).mean()\n",
    "\n",
    "CA_data_final=CA_data_final.rolling(window, center=True).mean()"
   ]
  },
  {
   "cell_type": "code",
   "execution_count": null,
   "id": "7a0d40a8",
   "metadata": {},
   "outputs": [],
   "source": [
    "#Average　＃やらない\n",
    "def average2(data):\n",
    "    CA_average = pd.DataFrame(columns=[int(x) for x in np.linspace(0,len(comp_sample)-1,len(comp_sample))])\n",
    "    for s in range(len(sample_rep)):\n",
    "        CA_average.loc[:,s] = np.mean(data.iloc[:,sample_rep[s][0]],axis=1)\n",
    "    return CA_average\n",
    "\n",
    "CA_data_final=average2(CA_data_bs)\n",
    "CA_baseline_ave=average2(CA_data_bs_baselline)\n",
    "blank_time_ave=average2(CA_data_bs_blank_time)\n",
    "\n",
    "#smoothing range\n",
    "window=1*60\n",
    "CA_data_final=CA_data_final.rolling(window, center=True).mean()"
   ]
  },
  {
   "cell_type": "code",
   "execution_count": null,
   "id": "e55fa922",
   "metadata": {},
   "outputs": [],
   "source": [
    "CA_data_all_ave"
   ]
  },
  {
   "cell_type": "code",
   "execution_count": null,
   "id": "e73022b1",
   "metadata": {},
   "outputs": [],
   "source": [
    "# All CA data (Average)\n",
    "\n",
    "#graph proerties\n",
    "fig = plt.figure(dpi=1000)\n",
    "plt.rcParams['font.family'] = 'Arial'\n",
    "sns.set()\n",
    "sns.set_style('ticks')\n",
    "#sns.set_palette('hls',CA_data_final.shape[1])\n",
    "ax = fig.add_subplot(111)\n",
    "plt.xlabel('Time (hour)' ,fontsize = 18)\n",
    "plt.ylabel('Current (nA)',fontsize = 18)\n",
    "\n",
    "#baseline含む\n",
    "#CA_data_all_ave=pd.concat([CA_error_peak_removed_baseline,CA_error_peak_removed_blank_time,CA_error_peak_removed])\n",
    "#CA_data_all_ave=pd.concat([CA_baseline_ave,blank_time_ave,CA_data_final])\n",
    "CA_data_all_ave=pd.concat([CA_data_bs_baselline,CA_data_bs_blank_time,CA_data_bs])\n",
    "#CA_data_all_ave=pd.concat([CA_baseline_ave,blank_time_ave,CA_data_final])\n",
    "#CA_data_all_ave=CA_data_final\n",
    "\n",
    "#repricateの番号\n",
    "a=2 #a:1~6 repricatesをあらわす\n",
    "a=a-1\n",
    "CA_data_all_ave= CA_data_all_ave.iloc[:,a::6]\n",
    "\n",
    "#sample_list=[1,2,16,17,22,23]\n",
    "#color\n",
    "#cm = ['red', 'lightcoral', 'navy', 'lightblue','black', 'gray']\n",
    "#name = ['WT+BB24', 'ΔtolC+BB24', 'WT+NB', 'ΔtolC+NB', 'WT', 'ΔtolC']\n",
    "cm = plt.get_cmap(\"gnuplot2\")\n",
    "#drawing\n",
    "t=0\n",
    "x=0\n",
    "for i in range(int(CA_data_all_ave.shape[1])):\n",
    "    #if i in range(16,32):\n",
    "    ydata = CA_data_all_ave.iloc[:,i]\n",
    "    ydata = ydata*10**9\n",
    "    plt.plot(time(CA_data_all_ave),ydata,linewidth=1, label=comp_sample[int(i*6+a)], color = cm(i/16))\n",
    "        #plt.plot(time(CA_data_all_ave),ydata,linewidth=1, label=name[x], color = cm[x])\n",
    "       #x=x+1\n",
    "    #t=t+rep_num[i]\n",
    "    legend = plt.legend(bbox_to_anchor=(0.5, 1.05), loc=\"lower center\", borderaxespad=0, fontsize=14, ncol = 4)\n",
    "plt.ylim(0, 2200)\n",
    "plt.xlim(0, 3)\n",
    "#plt.yticks(np.arange(0,1401,200))\n",
    "#plt.xticks(np.arange(0,11))\n",
    "plt.tick_params(labelsize=18)\n",
    "#plt.savefig('/Users/takashi/Documents/岡本研/実験関係/代謝(基質)/sub2_10h',facecolor=\"white\",bbox_inches='tight')\n",
    "plt.show"
   ]
  },
  {
   "cell_type": "code",
   "execution_count": null,
   "id": "864a3d5e",
   "metadata": {},
   "outputs": [],
   "source": [
    "#current\n",
    "CA_data_final_current=CA_data_final.iloc[:60*70,:].max()\n",
    "CA_data_final_current_time=CA_data_final.iloc[:60*70,:].idxmax()"
   ]
  },
  {
   "cell_type": "code",
   "execution_count": null,
   "id": "730e9142",
   "metadata": {},
   "outputs": [],
   "source": [
    "CA_data"
   ]
  },
  {
   "cell_type": "code",
   "execution_count": null,
   "id": "489c3898",
   "metadata": {},
   "outputs": [],
   "source": [
    "CA_data_bs.loc[425,0::6]*10**9"
   ]
  },
  {
   "cell_type": "code",
   "execution_count": null,
   "id": "d942a492",
   "metadata": {},
   "outputs": [],
   "source": [
    "CA_data_final_current_time/60"
   ]
  },
  {
   "cell_type": "code",
   "execution_count": null,
   "id": "6ecf2a29",
   "metadata": {},
   "outputs": [],
   "source": [
    "CA_data_final_current.index=[comp_sample]\n",
    "CA_data_final_current_time.index=[comp_sample]"
   ]
  },
  {
   "cell_type": "code",
   "execution_count": null,
   "id": "bf7cf55b",
   "metadata": {},
   "outputs": [],
   "source": [
    "CA_data_final_current_time=CA_data_final_current_time/60"
   ]
  },
  {
   "cell_type": "code",
   "execution_count": null,
   "id": "ee65e0ce",
   "metadata": {},
   "outputs": [],
   "source": [
    "CA_data_final_current.to_csv('/Users/takashi/Documents/岡本研/実験関係/メディエーター/実験データ/大腸菌/thio_mutant/230520/max_current')\n",
    "CA_data_final_current_time.to_csv('/Users/takashi/Documents/岡本研/実験関係/メディエーター/実験データ/大腸菌/thio_mutant/230520/max_current_time')\n",
    "\n",
    "\n",
    "\n"
   ]
  },
  {
   "cell_type": "code",
   "execution_count": null,
   "id": "222b40a8",
   "metadata": {},
   "outputs": [],
   "source": [
    "list=[0, 3, 3, 3, 0, 3, 2, 3, 2, 0, 3, 3, 2, 0, 0, 0, 2, 2, 2, 2, 0, 0,2, 3]\n",
    "\n",
    "list2=[]\n",
    "for i in range(len(list)):\n",
    "    a=np.array(list[i])+4*i\n",
    "    list2.append(a)"
   ]
  },
  {
   "cell_type": "code",
   "execution_count": null,
   "id": "43b849cd",
   "metadata": {},
   "outputs": [],
   "source": [
    "list2"
   ]
  },
  {
   "cell_type": "code",
   "execution_count": null,
   "id": "1b3749a5",
   "metadata": {},
   "outputs": [],
   "source": [
    "comp_sample"
   ]
  },
  {
   "cell_type": "code",
   "execution_count": null,
   "id": "ea5ed2eb",
   "metadata": {},
   "outputs": [],
   "source": [
    "CA_data_final_current"
   ]
  },
  {
   "cell_type": "code",
   "execution_count": null,
   "id": "674b8447",
   "metadata": {},
   "outputs": [],
   "source": [
    "CA_data_final_current_time/60"
   ]
  },
  {
   "cell_type": "code",
   "execution_count": null,
   "id": "ffdee3d2",
   "metadata": {},
   "outputs": [],
   "source": [
    "main=[x for x in range(0,36) if x%3 != 0]"
   ]
  },
  {
   "cell_type": "code",
   "execution_count": null,
   "id": "8279af70",
   "metadata": {},
   "outputs": [],
   "source": [
    "comp_sample"
   ]
  },
  {
   "cell_type": "code",
   "execution_count": null,
   "id": "742ff6d2",
   "metadata": {},
   "outputs": [],
   "source": [
    "CA_data_final_current[main]"
   ]
  },
  {
   "cell_type": "code",
   "execution_count": null,
   "id": "2dc67ca7",
   "metadata": {},
   "outputs": [],
   "source": [
    "#slope\n",
    "CA_data_final_slope=CA_data_final.diff()\n",
    "#slope_max=CA_data_final_slope.iloc[1*60*60:,:].max()\n",
    "slope_max=CA_data_final_slope.max()\n",
    "#slope_max_time=CA_data_final_slope.iloc[1*60*60:,:].idxmax()\n",
    "slope_max_time=CA_data_final_slope.idxmax()"
   ]
  },
  {
   "cell_type": "code",
   "execution_count": null,
   "id": "f04fa60d",
   "metadata": {},
   "outputs": [],
   "source": [
    "slope_max_time/60"
   ]
  },
  {
   "cell_type": "code",
   "execution_count": null,
   "id": "86b129c8",
   "metadata": {},
   "outputs": [],
   "source": [
    "slope_max"
   ]
  },
  {
   "cell_type": "code",
   "execution_count": null,
   "id": "4b1d7dc9",
   "metadata": {},
   "outputs": [],
   "source": [
    "slope_max[main]"
   ]
  },
  {
   "cell_type": "code",
   "execution_count": null,
   "id": "8f1bbc19",
   "metadata": {},
   "outputs": [],
   "source": [
    "##for mPMS##\n",
    "#2時間以降\n",
    "CA_data_final_current=CA_data_final.iloc[2*60:,:].max()\n",
    "CA_data_final_current_time=CA_data_final.iloc[2*60:,:].idxmax()\n",
    "\n",
    "\n",
    "CA_data_final_slope=CA_data_final.diff(1*60)\n",
    "slope_max=CA_data_final_slope.iloc[2*60:,:].max()\n",
    "slope_max_time=CA_data_final_slope.iloc[2*60:,:].idxmax()"
   ]
  },
  {
   "cell_type": "code",
   "execution_count": null,
   "id": "64dc1cf0",
   "metadata": {},
   "outputs": [],
   "source": [
    "slope_max"
   ]
  },
  {
   "cell_type": "code",
   "execution_count": null,
   "id": "b2bb2b4d",
   "metadata": {},
   "outputs": [],
   "source": [
    "#All CA data (Average) with max slope and current\n",
    "\n",
    "#graph proerties\n",
    "fig = plt.figure(dpi=500)\n",
    "plt.rcParams['font.family'] = 'Arial'\n",
    "sns.set()\n",
    "sns.set_style('ticks')\n",
    "sns.set_palette('hls',CA_data_final.shape[1])\n",
    "ax = fig.add_subplot(111)\n",
    "plt.xlabel('Time (hour)' ,fontsize = 18)\n",
    "plt.ylabel('Current (nA)',fontsize = 18)\n",
    "\n",
    "#CA_data_all_ave=CA_data_final\n",
    "\n",
    "#drawing\n",
    "t=0\n",
    "#for i in range(int(CA_data_all_ave.shape[1])):\n",
    "#for i in range(16,25):\n",
    "for i in [16,17,18,19,27,28,29,30,31]:\n",
    "    ydata =CA_data_all_ave.iloc[:,i]\n",
    "    ydata = ydata*10**9\n",
    "    plt.plot(time(CA_data_all_ave),ydata,linewidth=1, label=comp_sample[i])\n",
    "    plt.plot(CA_data_final_current_time[i]/60,CA_data_final[i][CA_data_final_current_time[i]]*10**9,\"bo\")\n",
    "    #plt.plot(slope_max_time[i]/60,CA_data_final[i][slope_max_time[i]]*10**9,\"ro\")\n",
    "    t=t+rep_num[i]\n",
    "    legend = plt.legend(bbox_to_anchor=(0.5, 1.05), loc=\"lower center\", borderaxespad=0, fontsize=14, ncol = 3)\n",
    "plt.ylim(0, 2200)\n",
    "plt.xlim(0, 34)\n",
    "#plt.yticks(np.arange(0,1401,200))\n",
    "plt.xticks(np.arange(0,35,2))\n",
    "plt.tick_params(labelsize=18)\n",
    "plt.savefig('/Users/takashi/Documents/岡本研/実験関係/代謝(基質)/sub1_withmax_use',facecolor=\"white\",bbox_inches='tight')\n",
    "plt.show"
   ]
  },
  {
   "cell_type": "code",
   "execution_count": null,
   "id": "d9f24e06",
   "metadata": {},
   "outputs": [],
   "source": [
    "##All wells in one sample with average##\n",
    "\n",
    "#def allwell_average(data_name, file_name):\n",
    "#graph proerties\n",
    "\n",
    "CA_data_bs_all=pd.concat([CA_data_bs_baselline,CA_data_bs_blank_time,CA_data_bs])\n",
    "\n",
    "#base_data=CA_data_rep10\n",
    "#average_data=average_for10\n",
    "\n",
    "\n",
    "average_data=CA_data_all_ave\n",
    "base_data=CA_data_bs_all\n",
    "\n",
    "replicate=3\n",
    "\n",
    "fig = plt.figure(figsize=(60, 200))\n",
    "plt.rcParams['font.family'] = 'Arial'\n",
    "sns.set()\n",
    "sns.set_style('ticks')\n",
    "sns.set_palette('hls',CA_data_final.shape[1])\n",
    "ax = fig.add_subplot(111)\n",
    "\n",
    "#drawing\n",
    "s=0\n",
    "for i in range (len(rep_num)):\n",
    "#for i in range (8):\n",
    "    #for t in range(i*replicate,(i+1)*replicate):\n",
    "    #for t in range(s,s+rep_num[i]):\n",
    "    for t in range(s,s+replicate):\n",
    "        plt.subplot(int(base_data.shape[1]/3),3,i+1)\n",
    "        plt.xlabel('Time (hour)' ,fontsize = 25)\n",
    "        plt.xticks(fontsize=20)\n",
    "        plt.ylabel('Current (nA)',fontsize = 25)\n",
    "        plt.yticks(fontsize=20)\n",
    "        ydata = base_data.iloc[:,t]\n",
    "        ydata = ydata*10**9\n",
    "        plt.plot(time(ydata),ydata,linewidth=1,color='gray')\n",
    "    #drawing with average\n",
    "    ydata_a = average_data.iloc[:,i]\n",
    "    ydata_a = ydata_a*10**9\n",
    "    plt.plot(time(ydata_a),ydata_a,linewidth=1, color='red')\n",
    "    plt.subplots_adjust(wspace=0.3, hspace=0.5)\n",
    "    plt.title(comp_sample[i],fontsize=30)\n",
    "    #s=s+rep_num[i]\n",
    "    s=s+replicate\n",
    "    #plt.ylim(-50, 300)\n",
    "    #plt.xlim(1, 20)\n",
    "#plt.ioff()\n",
    "#plt.savefig(dirname+bac_name+date+'replicate+average'+file_name,bbox_inches='tight')\n",
    "plt.savefig('/Users/takashi/Documents/岡本研/実験関係/メディエーター/実験データ/大腸菌/thio_mutant/230520/average_with_rep',facecolor=\"white\",bbox_inches='tight')\n",
    "#plt.close(fig)\n",
    "plt.show()\n",
    "\n",
    "#allwell_average(CA_data, 'rawdata')\n",
    "#allwell_average(CA_data_bs, 'correction')"
   ]
  },
  {
   "cell_type": "code",
   "execution_count": null,
   "id": "73fe3760",
   "metadata": {},
   "outputs": [],
   "source": []
  }
 ],
 "metadata": {
  "kernelspec": {
   "display_name": "data_analysis",
   "language": "python",
   "name": "data_analysis"
  },
  "language_info": {
   "codemirror_mode": {
    "name": "ipython",
    "version": 3
   },
   "file_extension": ".py",
   "mimetype": "text/x-python",
   "name": "python",
   "nbconvert_exporter": "python",
   "pygments_lexer": "ipython3",
   "version": "3.10.9"
  }
 },
 "nbformat": 4,
 "nbformat_minor": 5
}
